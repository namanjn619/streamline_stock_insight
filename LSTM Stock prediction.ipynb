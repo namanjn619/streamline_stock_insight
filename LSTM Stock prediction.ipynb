{
 "cells": [
  {
   "cell_type": "code",
   "execution_count": 1,
   "id": "727b4bba-bf4b-4f12-8bad-2d902e23dd95",
   "metadata": {},
   "outputs": [],
   "source": [
    "import numpy as np\n",
    "import pandas as pd\n",
    "import matplotlib.pyplot as plt\n",
    "import yfinance as yf\n",
    "from datetime import date"
   ]
  },
  {
   "cell_type": "code",
   "execution_count": 2,
   "id": "8f1b9fa3-2a6c-405d-b068-da1c09a342a0",
   "metadata": {},
   "outputs": [],
   "source": [
    "start = '2010-01-01'\n",
    "end = date.today().strftime(\"%Y-%m-%d\")"
   ]
  },
  {
   "cell_type": "code",
   "execution_count": 3,
   "id": "0fa20ab4-77b7-4d7a-a9ad-2b2ff2cd6765",
   "metadata": {},
   "outputs": [
    {
     "name": "stderr",
     "output_type": "stream",
     "text": [
      "[*********************100%%**********************]  1 of 1 completed\n"
     ]
    },
    {
     "data": {
      "text/html": [
       "<div>\n",
       "<style scoped>\n",
       "    .dataframe tbody tr th:only-of-type {\n",
       "        vertical-align: middle;\n",
       "    }\n",
       "\n",
       "    .dataframe tbody tr th {\n",
       "        vertical-align: top;\n",
       "    }\n",
       "\n",
       "    .dataframe thead th {\n",
       "        text-align: right;\n",
       "    }\n",
       "</style>\n",
       "<table border=\"1\" class=\"dataframe\">\n",
       "  <thead>\n",
       "    <tr style=\"text-align: right;\">\n",
       "      <th></th>\n",
       "      <th>Open</th>\n",
       "      <th>High</th>\n",
       "      <th>Low</th>\n",
       "      <th>Close</th>\n",
       "      <th>Adj Close</th>\n",
       "      <th>Volume</th>\n",
       "    </tr>\n",
       "    <tr>\n",
       "      <th>Date</th>\n",
       "      <th></th>\n",
       "      <th></th>\n",
       "      <th></th>\n",
       "      <th></th>\n",
       "      <th></th>\n",
       "      <th></th>\n",
       "    </tr>\n",
       "  </thead>\n",
       "  <tbody>\n",
       "    <tr>\n",
       "      <th>2010-01-04</th>\n",
       "      <td>7.622500</td>\n",
       "      <td>7.660714</td>\n",
       "      <td>7.585000</td>\n",
       "      <td>7.643214</td>\n",
       "      <td>6.461977</td>\n",
       "      <td>493729600</td>\n",
       "    </tr>\n",
       "    <tr>\n",
       "      <th>2010-01-05</th>\n",
       "      <td>7.664286</td>\n",
       "      <td>7.699643</td>\n",
       "      <td>7.616071</td>\n",
       "      <td>7.656429</td>\n",
       "      <td>6.473151</td>\n",
       "      <td>601904800</td>\n",
       "    </tr>\n",
       "    <tr>\n",
       "      <th>2010-01-06</th>\n",
       "      <td>7.656429</td>\n",
       "      <td>7.686786</td>\n",
       "      <td>7.526786</td>\n",
       "      <td>7.534643</td>\n",
       "      <td>6.370185</td>\n",
       "      <td>552160000</td>\n",
       "    </tr>\n",
       "    <tr>\n",
       "      <th>2010-01-07</th>\n",
       "      <td>7.562500</td>\n",
       "      <td>7.571429</td>\n",
       "      <td>7.466071</td>\n",
       "      <td>7.520714</td>\n",
       "      <td>6.358406</td>\n",
       "      <td>477131200</td>\n",
       "    </tr>\n",
       "    <tr>\n",
       "      <th>2010-01-08</th>\n",
       "      <td>7.510714</td>\n",
       "      <td>7.571429</td>\n",
       "      <td>7.466429</td>\n",
       "      <td>7.570714</td>\n",
       "      <td>6.400682</td>\n",
       "      <td>447610800</td>\n",
       "    </tr>\n",
       "  </tbody>\n",
       "</table>\n",
       "</div>"
      ],
      "text/plain": [
       "                Open      High       Low     Close  Adj Close     Volume\n",
       "Date                                                                    \n",
       "2010-01-04  7.622500  7.660714  7.585000  7.643214   6.461977  493729600\n",
       "2010-01-05  7.664286  7.699643  7.616071  7.656429   6.473151  601904800\n",
       "2010-01-06  7.656429  7.686786  7.526786  7.534643   6.370185  552160000\n",
       "2010-01-07  7.562500  7.571429  7.466071  7.520714   6.358406  477131200\n",
       "2010-01-08  7.510714  7.571429  7.466429  7.570714   6.400682  447610800"
      ]
     },
     "execution_count": 3,
     "metadata": {},
     "output_type": "execute_result"
    }
   ],
   "source": [
    "df = yf.download('AAPL', start, end)\n",
    "df.head()"
   ]
  },
  {
   "cell_type": "code",
   "execution_count": 4,
   "id": "d50940b1-f296-42eb-9700-a5ddd86bb096",
   "metadata": {},
   "outputs": [
    {
     "data": {
      "text/html": [
       "<div>\n",
       "<style scoped>\n",
       "    .dataframe tbody tr th:only-of-type {\n",
       "        vertical-align: middle;\n",
       "    }\n",
       "\n",
       "    .dataframe tbody tr th {\n",
       "        vertical-align: top;\n",
       "    }\n",
       "\n",
       "    .dataframe thead th {\n",
       "        text-align: right;\n",
       "    }\n",
       "</style>\n",
       "<table border=\"1\" class=\"dataframe\">\n",
       "  <thead>\n",
       "    <tr style=\"text-align: right;\">\n",
       "      <th></th>\n",
       "      <th>Open</th>\n",
       "      <th>High</th>\n",
       "      <th>Low</th>\n",
       "      <th>Close</th>\n",
       "      <th>Adj Close</th>\n",
       "      <th>Volume</th>\n",
       "    </tr>\n",
       "    <tr>\n",
       "      <th>Date</th>\n",
       "      <th></th>\n",
       "      <th></th>\n",
       "      <th></th>\n",
       "      <th></th>\n",
       "      <th></th>\n",
       "      <th></th>\n",
       "    </tr>\n",
       "  </thead>\n",
       "  <tbody>\n",
       "    <tr>\n",
       "      <th>2024-08-05</th>\n",
       "      <td>199.089996</td>\n",
       "      <td>213.500000</td>\n",
       "      <td>196.000000</td>\n",
       "      <td>209.270004</td>\n",
       "      <td>209.270004</td>\n",
       "      <td>119548600</td>\n",
       "    </tr>\n",
       "    <tr>\n",
       "      <th>2024-08-06</th>\n",
       "      <td>205.300003</td>\n",
       "      <td>209.990005</td>\n",
       "      <td>201.070007</td>\n",
       "      <td>207.229996</td>\n",
       "      <td>207.229996</td>\n",
       "      <td>69660500</td>\n",
       "    </tr>\n",
       "    <tr>\n",
       "      <th>2024-08-07</th>\n",
       "      <td>206.899994</td>\n",
       "      <td>213.639999</td>\n",
       "      <td>206.389999</td>\n",
       "      <td>209.820007</td>\n",
       "      <td>209.820007</td>\n",
       "      <td>63516400</td>\n",
       "    </tr>\n",
       "    <tr>\n",
       "      <th>2024-08-08</th>\n",
       "      <td>213.110001</td>\n",
       "      <td>214.199997</td>\n",
       "      <td>208.830002</td>\n",
       "      <td>213.309998</td>\n",
       "      <td>213.309998</td>\n",
       "      <td>47161100</td>\n",
       "    </tr>\n",
       "    <tr>\n",
       "      <th>2024-08-09</th>\n",
       "      <td>212.100006</td>\n",
       "      <td>216.779999</td>\n",
       "      <td>211.970001</td>\n",
       "      <td>216.240005</td>\n",
       "      <td>216.240005</td>\n",
       "      <td>42171700</td>\n",
       "    </tr>\n",
       "  </tbody>\n",
       "</table>\n",
       "</div>"
      ],
      "text/plain": [
       "                  Open        High         Low       Close   Adj Close  \\\n",
       "Date                                                                     \n",
       "2024-08-05  199.089996  213.500000  196.000000  209.270004  209.270004   \n",
       "2024-08-06  205.300003  209.990005  201.070007  207.229996  207.229996   \n",
       "2024-08-07  206.899994  213.639999  206.389999  209.820007  209.820007   \n",
       "2024-08-08  213.110001  214.199997  208.830002  213.309998  213.309998   \n",
       "2024-08-09  212.100006  216.779999  211.970001  216.240005  216.240005   \n",
       "\n",
       "               Volume  \n",
       "Date                   \n",
       "2024-08-05  119548600  \n",
       "2024-08-06   69660500  \n",
       "2024-08-07   63516400  \n",
       "2024-08-08   47161100  \n",
       "2024-08-09   42171700  "
      ]
     },
     "execution_count": 4,
     "metadata": {},
     "output_type": "execute_result"
    }
   ],
   "source": [
    "df.tail()"
   ]
  },
  {
   "cell_type": "code",
   "execution_count": 5,
   "id": "230f990b-9a9c-4b1e-840a-9f61875f33b2",
   "metadata": {},
   "outputs": [
    {
     "data": {
      "text/html": [
       "<div>\n",
       "<style scoped>\n",
       "    .dataframe tbody tr th:only-of-type {\n",
       "        vertical-align: middle;\n",
       "    }\n",
       "\n",
       "    .dataframe tbody tr th {\n",
       "        vertical-align: top;\n",
       "    }\n",
       "\n",
       "    .dataframe thead th {\n",
       "        text-align: right;\n",
       "    }\n",
       "</style>\n",
       "<table border=\"1\" class=\"dataframe\">\n",
       "  <thead>\n",
       "    <tr style=\"text-align: right;\">\n",
       "      <th></th>\n",
       "      <th>Date</th>\n",
       "      <th>Open</th>\n",
       "      <th>High</th>\n",
       "      <th>Low</th>\n",
       "      <th>Close</th>\n",
       "      <th>Adj Close</th>\n",
       "      <th>Volume</th>\n",
       "    </tr>\n",
       "  </thead>\n",
       "  <tbody>\n",
       "    <tr>\n",
       "      <th>0</th>\n",
       "      <td>2010-01-04</td>\n",
       "      <td>7.622500</td>\n",
       "      <td>7.660714</td>\n",
       "      <td>7.585000</td>\n",
       "      <td>7.643214</td>\n",
       "      <td>6.461977</td>\n",
       "      <td>493729600</td>\n",
       "    </tr>\n",
       "    <tr>\n",
       "      <th>1</th>\n",
       "      <td>2010-01-05</td>\n",
       "      <td>7.664286</td>\n",
       "      <td>7.699643</td>\n",
       "      <td>7.616071</td>\n",
       "      <td>7.656429</td>\n",
       "      <td>6.473151</td>\n",
       "      <td>601904800</td>\n",
       "    </tr>\n",
       "    <tr>\n",
       "      <th>2</th>\n",
       "      <td>2010-01-06</td>\n",
       "      <td>7.656429</td>\n",
       "      <td>7.686786</td>\n",
       "      <td>7.526786</td>\n",
       "      <td>7.534643</td>\n",
       "      <td>6.370185</td>\n",
       "      <td>552160000</td>\n",
       "    </tr>\n",
       "    <tr>\n",
       "      <th>3</th>\n",
       "      <td>2010-01-07</td>\n",
       "      <td>7.562500</td>\n",
       "      <td>7.571429</td>\n",
       "      <td>7.466071</td>\n",
       "      <td>7.520714</td>\n",
       "      <td>6.358406</td>\n",
       "      <td>477131200</td>\n",
       "    </tr>\n",
       "    <tr>\n",
       "      <th>4</th>\n",
       "      <td>2010-01-08</td>\n",
       "      <td>7.510714</td>\n",
       "      <td>7.571429</td>\n",
       "      <td>7.466429</td>\n",
       "      <td>7.570714</td>\n",
       "      <td>6.400682</td>\n",
       "      <td>447610800</td>\n",
       "    </tr>\n",
       "  </tbody>\n",
       "</table>\n",
       "</div>"
      ],
      "text/plain": [
       "        Date      Open      High       Low     Close  Adj Close     Volume\n",
       "0 2010-01-04  7.622500  7.660714  7.585000  7.643214   6.461977  493729600\n",
       "1 2010-01-05  7.664286  7.699643  7.616071  7.656429   6.473151  601904800\n",
       "2 2010-01-06  7.656429  7.686786  7.526786  7.534643   6.370185  552160000\n",
       "3 2010-01-07  7.562500  7.571429  7.466071  7.520714   6.358406  477131200\n",
       "4 2010-01-08  7.510714  7.571429  7.466429  7.570714   6.400682  447610800"
      ]
     },
     "execution_count": 5,
     "metadata": {},
     "output_type": "execute_result"
    }
   ],
   "source": [
    "df = df.reset_index()\n",
    "df.head()"
   ]
  },
  {
   "cell_type": "code",
   "execution_count": 6,
   "id": "2f4e8a1f-89d2-4dc7-9197-0692064c9a8d",
   "metadata": {},
   "outputs": [
    {
     "data": {
      "text/html": [
       "<div>\n",
       "<style scoped>\n",
       "    .dataframe tbody tr th:only-of-type {\n",
       "        vertical-align: middle;\n",
       "    }\n",
       "\n",
       "    .dataframe tbody tr th {\n",
       "        vertical-align: top;\n",
       "    }\n",
       "\n",
       "    .dataframe thead th {\n",
       "        text-align: right;\n",
       "    }\n",
       "</style>\n",
       "<table border=\"1\" class=\"dataframe\">\n",
       "  <thead>\n",
       "    <tr style=\"text-align: right;\">\n",
       "      <th></th>\n",
       "      <th>Open</th>\n",
       "      <th>High</th>\n",
       "      <th>Low</th>\n",
       "      <th>Close</th>\n",
       "      <th>Volume</th>\n",
       "    </tr>\n",
       "  </thead>\n",
       "  <tbody>\n",
       "    <tr>\n",
       "      <th>0</th>\n",
       "      <td>7.622500</td>\n",
       "      <td>7.660714</td>\n",
       "      <td>7.585000</td>\n",
       "      <td>7.643214</td>\n",
       "      <td>493729600</td>\n",
       "    </tr>\n",
       "    <tr>\n",
       "      <th>1</th>\n",
       "      <td>7.664286</td>\n",
       "      <td>7.699643</td>\n",
       "      <td>7.616071</td>\n",
       "      <td>7.656429</td>\n",
       "      <td>601904800</td>\n",
       "    </tr>\n",
       "    <tr>\n",
       "      <th>2</th>\n",
       "      <td>7.656429</td>\n",
       "      <td>7.686786</td>\n",
       "      <td>7.526786</td>\n",
       "      <td>7.534643</td>\n",
       "      <td>552160000</td>\n",
       "    </tr>\n",
       "    <tr>\n",
       "      <th>3</th>\n",
       "      <td>7.562500</td>\n",
       "      <td>7.571429</td>\n",
       "      <td>7.466071</td>\n",
       "      <td>7.520714</td>\n",
       "      <td>477131200</td>\n",
       "    </tr>\n",
       "    <tr>\n",
       "      <th>4</th>\n",
       "      <td>7.510714</td>\n",
       "      <td>7.571429</td>\n",
       "      <td>7.466429</td>\n",
       "      <td>7.570714</td>\n",
       "      <td>447610800</td>\n",
       "    </tr>\n",
       "  </tbody>\n",
       "</table>\n",
       "</div>"
      ],
      "text/plain": [
       "       Open      High       Low     Close     Volume\n",
       "0  7.622500  7.660714  7.585000  7.643214  493729600\n",
       "1  7.664286  7.699643  7.616071  7.656429  601904800\n",
       "2  7.656429  7.686786  7.526786  7.534643  552160000\n",
       "3  7.562500  7.571429  7.466071  7.520714  477131200\n",
       "4  7.510714  7.571429  7.466429  7.570714  447610800"
      ]
     },
     "execution_count": 6,
     "metadata": {},
     "output_type": "execute_result"
    }
   ],
   "source": [
    "df = df.drop(['Date','Adj Close'], axis = 1)\n",
    "df.head()"
   ]
  },
  {
   "cell_type": "code",
   "execution_count": 7,
   "id": "75633514-ffad-446f-9a9c-2ee141c2fd4e",
   "metadata": {},
   "outputs": [
    {
     "data": {
      "text/plain": [
       "[<matplotlib.lines.Line2D at 0x18ee2e88a60>]"
      ]
     },
     "execution_count": 7,
     "metadata": {},
     "output_type": "execute_result"
    },
    {
     "data": {
      "image/png": "[encoded data removed]",
      "text/plain": [
       "<Figure size 640x480 with 1 Axes>"
      ]
     },
     "metadata": {},
     "output_type": "display_data"
    }
   ],
   "source": [
    "plt.plot(df.Close)"
   ]
  },
  {
   "cell_type": "code",
   "execution_count": 8,
   "id": "8f1f7343-d86b-4425-beab-4e0e27378e42",
   "metadata": {},
   "outputs": [
    {
     "data": {
      "text/plain": [
       "0            NaN\n",
       "1            NaN\n",
       "2            NaN\n",
       "3            NaN\n",
       "4            NaN\n",
       "          ...   \n",
       "3661    190.1133\n",
       "3662    190.4912\n",
       "3663    190.8695\n",
       "3664    191.2981\n",
       "3665    191.7793\n",
       "Name: Close, Length: 3666, dtype: float64"
      ]
     },
     "execution_count": 8,
     "metadata": {},
     "output_type": "execute_result"
    }
   ],
   "source": [
    "# 100 days moving average\n",
    "ma100 = df.Close.rolling(100).mean()\n",
    "ma100"
   ]
  },
  {
   "cell_type": "code",
   "execution_count": 9,
   "id": "01bde750-54bb-4187-ada1-4ab614a90800",
   "metadata": {},
   "outputs": [
    {
     "data": {
      "text/plain": [
       "[<matplotlib.lines.Line2D at 0x18ee501cfd0>]"
      ]
     },
     "execution_count": 9,
     "metadata": {},
     "output_type": "execute_result"
    },
    {
     "data": {
      "image/png": "[encoded data removed]",
      "text/plain": [
       "<Figure size 1200x600 with 1 Axes>"
      ]
     },
     "metadata": {},
     "output_type": "display_data"
    }
   ],
   "source": [
    "plt.figure(figsize = (12,6))\n",
    "plt.plot(df.Close)\n",
    "plt.plot(ma100, 'r')"
   ]
  },
  {
   "cell_type": "code",
   "execution_count": 10,
   "id": "03cee316-e2bc-42ab-8a8c-36549884be0a",
   "metadata": {},
   "outputs": [
    {
     "data": {
      "text/plain": [
       "0             NaN\n",
       "1             NaN\n",
       "2             NaN\n",
       "3             NaN\n",
       "4             NaN\n",
       "          ...    \n",
       "3661    187.90420\n",
       "3662    188.12235\n",
       "3663    188.32235\n",
       "3664    188.51720\n",
       "3665    188.71645\n",
       "Name: Close, Length: 3666, dtype: float64"
      ]
     },
     "execution_count": 10,
     "metadata": {},
     "output_type": "execute_result"
    }
   ],
   "source": [
    "# 200 days moving average\n",
    "ma200 = df.Close.rolling(200).mean()\n",
    "ma200"
   ]
  },
  {
   "cell_type": "code",
   "execution_count": 11,
   "id": "3b529e98-840c-427a-83c1-8780bdb55cf8",
   "metadata": {},
   "outputs": [
    {
     "data": {
      "text/plain": [
       "[<matplotlib.lines.Line2D at 0x18ee5087820>]"
      ]
     },
     "execution_count": 11,
     "metadata": {},
     "output_type": "execute_result"
    },
    {
     "data": {
      "image/png": "[encoded data removed]",
      "text/plain": [
       "<Figure size 1200x600 with 1 Axes>"
      ]
     },
     "metadata": {},
     "output_type": "display_data"
    }
   ],
   "source": [
    "plt.figure(figsize = (12,6))\n",
    "plt.plot(df.Close)\n",
    "plt.plot(ma100, 'r')\n",
    "plt.plot(ma200, 'b')"
   ]
  },
  {
   "cell_type": "code",
   "execution_count": 12,
   "id": "332a5ac2-5a15-4ed1-8355-9e91f18d0b4e",
   "metadata": {},
   "outputs": [
    {
     "data": {
      "text/plain": [
       "(3666, 5)"
      ]
     },
     "execution_count": 12,
     "metadata": {},
     "output_type": "execute_result"
    }
   ],
   "source": [
    "df.shape"
   ]
  },
  {
   "cell_type": "code",
   "execution_count": 13,
   "id": "7cc8fbbe-37e5-45df-bb56-24084b1ec6ab",
   "metadata": {},
   "outputs": [
    {
     "name": "stdout",
     "output_type": "stream",
     "text": [
      "(2566, 1)\n",
      "(1100, 1)\n"
     ]
    }
   ],
   "source": [
    "# Train and Test Split\n",
    "\n",
    "df_training = pd.DataFrame(df['Close'][0:int(len(df)*0.70)])\n",
    "df_testing = pd.DataFrame(df['Close'][int(len(df)*0.70): int(len(df))])\n",
    "\n",
    "print(df_training.shape)\n",
    "print(df_testing.shape)"
   ]
  },
  {
   "cell_type": "code",
   "execution_count": 14,
   "id": "d59eb2cf-fa9c-4494-9198-3317600fa6a4",
   "metadata": {},
   "outputs": [
    {
     "data": {
      "text/html": [
       "<div>\n",
       "<style scoped>\n",
       "    .dataframe tbody tr th:only-of-type {\n",
       "        vertical-align: middle;\n",
       "    }\n",
       "\n",
       "    .dataframe tbody tr th {\n",
       "        vertical-align: top;\n",
       "    }\n",
       "\n",
       "    .dataframe thead th {\n",
       "        text-align: right;\n",
       "    }\n",
       "</style>\n",
       "<table border=\"1\" class=\"dataframe\">\n",
       "  <thead>\n",
       "    <tr style=\"text-align: right;\">\n",
       "      <th></th>\n",
       "      <th>Close</th>\n",
       "    </tr>\n",
       "  </thead>\n",
       "  <tbody>\n",
       "    <tr>\n",
       "      <th>0</th>\n",
       "      <td>7.643214</td>\n",
       "    </tr>\n",
       "    <tr>\n",
       "      <th>1</th>\n",
       "      <td>7.656429</td>\n",
       "    </tr>\n",
       "    <tr>\n",
       "      <th>2</th>\n",
       "      <td>7.534643</td>\n",
       "    </tr>\n",
       "    <tr>\n",
       "      <th>3</th>\n",
       "      <td>7.520714</td>\n",
       "    </tr>\n",
       "    <tr>\n",
       "      <th>4</th>\n",
       "      <td>7.570714</td>\n",
       "    </tr>\n",
       "  </tbody>\n",
       "</table>\n",
       "</div>"
      ],
      "text/plain": [
       "      Close\n",
       "0  7.643214\n",
       "1  7.656429\n",
       "2  7.534643\n",
       "3  7.520714\n",
       "4  7.570714"
      ]
     },
     "execution_count": 14,
     "metadata": {},
     "output_type": "execute_result"
    }
   ],
   "source": [
    "df_training.head()"
   ]
  },
  {
   "cell_type": "code",
   "execution_count": 15,
   "id": "a483ba57-4007-4d15-b81a-c3972f3757d6",
   "metadata": {},
   "outputs": [],
   "source": [
    "# preprocessing - Scalling\n",
    "from sklearn.preprocessing import MinMaxScaler\n",
    "scaler = MinMaxScaler(feature_range=(0,1))"
   ]
  },
  {
   "cell_type": "code",
   "execution_count": 16,
   "id": "68ef1e1a-82a9-4c71-8f33-22fea2015f91",
   "metadata": {},
   "outputs": [],
   "source": [
    "data_training_array = scaler.fit_transform(df_training)"
   ]
  },
  {
   "cell_type": "code",
   "execution_count": 17,
   "id": "12fe7ad3-9ae4-44df-a4e9-cf55598f75df",
   "metadata": {},
   "outputs": [
    {
     "data": {
      "text/plain": [
       "array([[0.01046536],\n",
       "       [0.01064169],\n",
       "       [0.0090166 ],\n",
       "       ...,\n",
       "       [0.82729758],\n",
       "       [0.73655963],\n",
       "       [0.83577093]])"
      ]
     },
     "execution_count": 17,
     "metadata": {},
     "output_type": "execute_result"
    }
   ],
   "source": [
    "data_training_array"
   ]
  },
  {
   "cell_type": "code",
   "execution_count": 18,
   "id": "e5ed1438-108b-41aa-ab41-c11376144b73",
   "metadata": {},
   "outputs": [],
   "source": [
    "#making data prepare for training\n",
    "x_train = []\n",
    "y_train = []\n",
    "\n",
    "for i in range(100, data_training_array.shape[0]):\n",
    "    x_train.append(data_training_array[i-100: i])\n",
    "    y_train.append(data_training_array[i, 0])\n",
    "\n",
    "x_train, y_train = np.array(x_train), np.array(y_train)"
   ]
  },
  {
   "cell_type": "code",
   "execution_count": 19,
   "id": "23a9e1d7-fe5d-4450-8df1-4ca34d899fd5",
   "metadata": {},
   "outputs": [
    {
     "data": {
      "text/plain": [
       "array([0.02921342, 0.0308957 , 0.03277813, ..., 0.82729758, 0.73655963,\n",
       "       0.83577093])"
      ]
     },
     "execution_count": 19,
     "metadata": {},
     "output_type": "execute_result"
    }
   ],
   "source": [
    "y_train"
   ]
  },
  {
   "cell_type": "code",
   "execution_count": 20,
   "id": "5a5eb8d2-bde7-4e23-bcdd-de537240f160",
   "metadata": {},
   "outputs": [],
   "source": [
    "# ML Model\n",
    "from keras.layers import Dense, Dropout, LSTM\n",
    "from keras.models import Sequential"
   ]
  },
  {
   "cell_type": "code",
   "execution_count": 29,
   "id": "27e47261-0bd9-4cf1-bd13-66a498790f68",
   "metadata": {},
   "outputs": [
    {
     "name": "stdout",
     "output_type": "stream",
     "text": [
      "WARNING:tensorflow:Layer lstm_6 will not use cuDNN kernels since it doesn't meet the criteria. It will use a generic GPU kernel as fallback when running on GPU.\n",
      "WARNING:tensorflow:Layer lstm_7 will not use cuDNN kernels since it doesn't meet the criteria. It will use a generic GPU kernel as fallback when running on GPU.\n",
      "WARNING:tensorflow:Layer lstm_8 will not use cuDNN kernels since it doesn't meet the criteria. It will use a generic GPU kernel as fallback when running on GPU.\n",
      "WARNING:tensorflow:Layer lstm_9 will not use cuDNN kernels since it doesn't meet the criteria. It will use a generic GPU kernel as fallback when running on GPU.\n"
     ]
    }
   ],
   "source": [
    "model = Sequential()\n",
    "model.add(LSTM(units = 50, activation = 'relu', return_sequences = True,\n",
    "              input_shape = (x_train.shape[1] ,1)))\n",
    "model.add(Dropout(0.2))\n",
    "\n",
    "model.add(LSTM(units = 60, activation = 'relu', return_sequences = True,\n",
    "              input_shape = (x_train.shape[1] ,1)))\n",
    "model.add(Dropout(0.3))\n",
    "\n",
    "model.add(LSTM(units = 80, activation = 'relu', return_sequences = True))\n",
    "model.add(Dropout(0.4))\n",
    "\n",
    "model.add(LSTM(units = 120, activation = 'relu'))\n",
    "model.add(Dropout(0.5))\n",
    "\n",
    "model.add(Dense(units = 1))"
   ]
  },
  {
   "cell_type": "code",
   "execution_count": 30,
   "id": "076b6241-6551-4cf8-8b64-3cb0880f1d8c",
   "metadata": {},
   "outputs": [
    {
     "name": "stdout",
     "output_type": "stream",
     "text": [
      "Model: \"sequential_5\"\n",
      "_________________________________________________________________\n",
      " Layer (type)                Output Shape              Param #   \n",
      "=================================================================\n",
      " lstm_6 (LSTM)               (None, 100, 50)           10400     \n",
      "                                                                 \n",
      " dropout_2 (Dropout)         (None, 100, 50)           0         \n",
      "                                                                 \n",
      " lstm_7 (LSTM)               (None, 100, 60)           26640     \n",
      "                                                                 \n",
      " dropout_3 (Dropout)         (None, 100, 60)           0         \n",
      "                                                                 \n",
      " lstm_8 (LSTM)               (None, 100, 80)           45120     \n",
      "                                                                 \n",
      " dropout_4 (Dropout)         (None, 100, 80)           0         \n",
      "                                                                 \n",
      " lstm_9 (LSTM)               (None, 120)               96480     \n",
      "                                                                 \n",
      " dropout_5 (Dropout)         (None, 120)               0         \n",
      "                                                                 \n",
      " dense (Dense)               (None, 1)                 121       \n",
      "                                                                 \n",
      "=================================================================\n",
      "Total params: 178,761\n",
      "Trainable params: 178,761\n",
      "Non-trainable params: 0\n",
      "_________________________________________________________________\n"
     ]
    }
   ],
   "source": [
    "model.summary()"
   ]
  },
  {
   "cell_type": "code",
   "execution_count": 31,
   "id": "86fdab81-1841-4691-a527-fb8a9726bdd8",
   "metadata": {},
   "outputs": [
    {
     "name": "stdout",
     "output_type": "stream",
     "text": [
      "Epoch 1/50\n",
      "78/78 [==============================] - 70s 817ms/step - loss: 0.0209\n",
      "Epoch 2/50\n",
      "78/78 [==============================] - 66s 840ms/step - loss: 0.0044\n",
      "Epoch 3/50\n",
      "78/78 [==============================] - 65s 839ms/step - loss: 0.0039\n",
      "Epoch 4/50\n",
      "78/78 [==============================] - 67s 854ms/step - loss: 0.0035\n",
      "Epoch 5/50\n",
      "78/78 [==============================] - 65s 839ms/step - loss: 0.0034\n",
      "Epoch 6/50\n",
      "78/78 [==============================] - 65s 826ms/step - loss: 0.0033\n",
      "Epoch 7/50\n",
      "78/78 [==============================] - 65s 837ms/step - loss: 0.0029\n",
      "Epoch 8/50\n",
      "78/78 [==============================] - 66s 844ms/step - loss: 0.0030\n",
      "Epoch 9/50\n",
      "78/78 [==============================] - 65s 827ms/step - loss: 0.0027\n",
      "Epoch 10/50\n",
      "78/78 [==============================] - 65s 838ms/step - loss: 0.0027\n",
      "Epoch 11/50\n",
      "78/78 [==============================] - 67s 853ms/step - loss: 0.0024\n",
      "Epoch 12/50\n",
      "78/78 [==============================] - 65s 829ms/step - loss: 0.0022\n",
      "Epoch 13/50\n",
      "78/78 [==============================] - 67s 860ms/step - loss: 0.0028\n",
      "Epoch 14/50\n",
      "78/78 [==============================] - 69s 891ms/step - loss: 0.0020\n",
      "Epoch 15/50\n",
      "78/78 [==============================] - 68s 876ms/step - loss: 0.0021\n",
      "Epoch 16/50\n",
      "78/78 [==============================] - 67s 854ms/step - loss: 0.0022\n",
      "Epoch 17/50\n",
      "78/78 [==============================] - 66s 849ms/step - loss: 0.0020\n",
      "Epoch 18/50\n",
      "78/78 [==============================] - 69s 881ms/step - loss: 0.0017\n",
      "Epoch 19/50\n",
      "78/78 [==============================] - 68s 877ms/step - loss: 0.0017\n",
      "Epoch 20/50\n",
      "78/78 [==============================] - 69s 886ms/step - loss: 0.0018\n",
      "Epoch 21/50\n",
      "78/78 [==============================] - 71s 906ms/step - loss: 0.0019\n",
      "Epoch 22/50\n",
      "78/78 [==============================] - 70s 897ms/step - loss: 0.0016\n",
      "Epoch 23/50\n",
      "78/78 [==============================] - 72s 928ms/step - loss: 0.0016\n",
      "Epoch 24/50\n",
      "78/78 [==============================] - 71s 904ms/step - loss: 0.0015\n",
      "Epoch 25/50\n",
      "78/78 [==============================] - 71s 916ms/step - loss: 0.0015\n",
      "Epoch 26/50\n",
      "78/78 [==============================] - 68s 875ms/step - loss: 0.0018\n",
      "Epoch 27/50\n",
      "78/78 [==============================] - 70s 902ms/step - loss: 0.0014\n",
      "Epoch 28/50\n",
      "78/78 [==============================] - 70s 903ms/step - loss: 0.0016\n",
      "Epoch 29/50\n",
      "78/78 [==============================] - 71s 911ms/step - loss: 0.0014\n",
      "Epoch 30/50\n",
      "78/78 [==============================] - 71s 908ms/step - loss: 0.0015\n",
      "Epoch 31/50\n",
      "78/78 [==============================] - 70s 904ms/step - loss: 0.0013\n",
      "Epoch 32/50\n",
      "78/78 [==============================] - 71s 908ms/step - loss: 0.0017\n",
      "Epoch 33/50\n",
      "78/78 [==============================] - 70s 904ms/step - loss: 0.0014\n",
      "Epoch 34/50\n",
      "78/78 [==============================] - 70s 899ms/step - loss: 0.0015\n",
      "Epoch 35/50\n",
      "78/78 [==============================] - 70s 904ms/step - loss: 0.0013\n",
      "Epoch 36/50\n",
      "78/78 [==============================] - 69s 892ms/step - loss: 0.0014\n",
      "Epoch 37/50\n",
      "78/78 [==============================] - 71s 905ms/step - loss: 0.0017\n",
      "Epoch 38/50\n",
      "78/78 [==============================] - 65s 838ms/step - loss: 0.0015\n",
      "Epoch 39/50\n",
      "78/78 [==============================] - 64s 821ms/step - loss: 0.0014\n",
      "Epoch 40/50\n",
      "78/78 [==============================] - 64s 821ms/step - loss: 0.0013\n",
      "Epoch 41/50\n",
      "78/78 [==============================] - 66s 850ms/step - loss: 0.0015\n",
      "Epoch 42/50\n",
      "78/78 [==============================] - 65s 827ms/step - loss: 0.0016\n",
      "Epoch 43/50\n",
      "78/78 [==============================] - 64s 826ms/step - loss: 0.0015\n",
      "Epoch 44/50\n",
      "78/78 [==============================] - 64s 827ms/step - loss: 0.0014\n",
      "Epoch 45/50\n",
      "78/78 [==============================] - 64s 821ms/step - loss: 0.0013\n",
      "Epoch 46/50\n",
      "78/78 [==============================] - 64s 825ms/step - loss: 0.0013\n",
      "Epoch 47/50\n",
      "78/78 [==============================] - 64s 825ms/step - loss: 0.0015\n",
      "Epoch 48/50\n",
      "78/78 [==============================] - 65s 833ms/step - loss: 0.0014\n",
      "Epoch 49/50\n",
      "78/78 [==============================] - 64s 820ms/step - loss: 0.0012\n",
      "Epoch 50/50\n",
      "78/78 [==============================] - 64s 821ms/step - loss: 0.0013\n"
     ]
    },
    {
     "data": {
      "text/plain": [
       "<keras.callbacks.History at 0x18eaf9eb490>"
      ]
     },
     "execution_count": 31,
     "metadata": {},
     "output_type": "execute_result"
    }
   ],
   "source": [
    "model.compile(optimizer='adam', loss = 'mean_squared_error')\n",
    "model.fit(x_train, y_train, epochs=50)"
   ]
  },
  {
   "cell_type": "code",
   "execution_count": 33,
   "id": "a3805be3",
   "metadata": {},
   "outputs": [
    {
     "name": "stdout",
     "output_type": "stream",
     "text": [
      "INFO:tensorflow:Assets written to: ram://6aab4aef-786a-4029-a484-4bb88cb4234c/assets\n"
     ]
    }
   ],
   "source": [
    "import pickle\n",
    "with open('lstm_stock_prediction_model.pkl', 'wb') as f:\n",
    "    pickle.dump(model, f)"
   ]
  },
  {
   "cell_type": "code",
   "execution_count": 34,
   "id": "9b056966",
   "metadata": {},
   "outputs": [],
   "source": [
    "model.save('keras_lstm_model.h5')"
   ]
  },
  {
   "cell_type": "code",
   "execution_count": null,
   "id": "d910adec",
   "metadata": {},
   "outputs": [],
   "source": []
  }
 ],
 "metadata": {
  "kernelspec": {
   "display_name": "Python [conda env:py310] *",
   "language": "python",
   "name": "conda-env-py310-py"
  },
  "language_info": {
   "codemirror_mode": {
    "name": "ipython",
    "version": 3
   },
   "file_extension": ".py",
   "mimetype": "text/x-python",
   "name": "python",
   "nbconvert_exporter": "python",
   "pygments_lexer": "ipython3",
   "version": "3.10.2"
  }
 },
 "nbformat": 4,
 "nbformat_minor": 5
}
