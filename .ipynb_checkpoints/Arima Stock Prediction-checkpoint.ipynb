{
 "cells": [
  {
   "cell_type": "code",
   "execution_count": 2,
   "id": "5422ffd5",
   "metadata": {},
   "outputs": [],
   "source": [
    "import numpy as np\n",
    "import pandas as pd\n",
    "import matplotlib.pyplot as plt\n",
    "import yfinance as yf\n",
    "from datetime import date\n",
    "import warnings\n",
    "from statsmodels.tsa.statespace.sarimax import SARIMAX\n",
    "from statsmodels.graphics.tsaplots import plot_acf, plot_pacf\n",
    "\n",
    "# To ignore all warnings:\n",
    "warnings.filterwarnings(\"ignore\")"
   ]
  },
  {
   "cell_type": "code",
   "execution_count": 15,
   "id": "0b61c960",
   "metadata": {},
   "outputs": [],
   "source": [
    "ten_years_back = date.today().replace(year=date.today().year - 10)\n",
    "start = ten_years_back\n",
    "end = date.today().strftime(\"%Y-%m-%d\")"
   ]
  },
  {
   "cell_type": "code",
   "execution_count": 16,
   "id": "14a1d11d",
   "metadata": {},
   "outputs": [
    {
     "name": "stderr",
     "output_type": "stream",
     "text": [
      "[*********************100%%**********************]  1 of 1 completed\n"
     ]
    },
    {
     "data": {
      "text/html": [
       "<div>\n",
       "<style scoped>\n",
       "    .dataframe tbody tr th:only-of-type {\n",
       "        vertical-align: middle;\n",
       "    }\n",
       "\n",
       "    .dataframe tbody tr th {\n",
       "        vertical-align: top;\n",
       "    }\n",
       "\n",
       "    .dataframe thead th {\n",
       "        text-align: right;\n",
       "    }\n",
       "</style>\n",
       "<table border=\"1\" class=\"dataframe\">\n",
       "  <thead>\n",
       "    <tr style=\"text-align: right;\">\n",
       "      <th></th>\n",
       "      <th>Open</th>\n",
       "      <th>High</th>\n",
       "      <th>Low</th>\n",
       "      <th>Close</th>\n",
       "      <th>Adj Close</th>\n",
       "      <th>Volume</th>\n",
       "    </tr>\n",
       "    <tr>\n",
       "      <th>Date</th>\n",
       "      <th></th>\n",
       "      <th></th>\n",
       "      <th></th>\n",
       "      <th></th>\n",
       "      <th></th>\n",
       "      <th></th>\n",
       "    </tr>\n",
       "  </thead>\n",
       "  <tbody>\n",
       "    <tr>\n",
       "      <th>2014-08-11</th>\n",
       "      <td>265.600006</td>\n",
       "      <td>272.250000</td>\n",
       "      <td>265.000000</td>\n",
       "      <td>270.000000</td>\n",
       "      <td>256.219971</td>\n",
       "      <td>4305779</td>\n",
       "    </tr>\n",
       "    <tr>\n",
       "      <th>2014-08-12</th>\n",
       "      <td>273.000000</td>\n",
       "      <td>274.950012</td>\n",
       "      <td>270.100006</td>\n",
       "      <td>271.350006</td>\n",
       "      <td>257.501068</td>\n",
       "      <td>3262251</td>\n",
       "    </tr>\n",
       "    <tr>\n",
       "      <th>2014-08-13</th>\n",
       "      <td>270.250000</td>\n",
       "      <td>275.250000</td>\n",
       "      <td>265.700012</td>\n",
       "      <td>274.399994</td>\n",
       "      <td>260.395386</td>\n",
       "      <td>3863196</td>\n",
       "    </tr>\n",
       "    <tr>\n",
       "      <th>2014-08-14</th>\n",
       "      <td>276.000000</td>\n",
       "      <td>276.000000</td>\n",
       "      <td>268.750000</td>\n",
       "      <td>272.399994</td>\n",
       "      <td>258.497528</td>\n",
       "      <td>2321776</td>\n",
       "    </tr>\n",
       "    <tr>\n",
       "      <th>2014-08-18</th>\n",
       "      <td>273.799988</td>\n",
       "      <td>277.899994</td>\n",
       "      <td>273.000000</td>\n",
       "      <td>273.600006</td>\n",
       "      <td>259.636230</td>\n",
       "      <td>2499975</td>\n",
       "    </tr>\n",
       "  </tbody>\n",
       "</table>\n",
       "</div>"
      ],
      "text/plain": [
       "                  Open        High         Low       Close   Adj Close  \\\n",
       "Date                                                                     \n",
       "2014-08-11  265.600006  272.250000  265.000000  270.000000  256.219971   \n",
       "2014-08-12  273.000000  274.950012  270.100006  271.350006  257.501068   \n",
       "2014-08-13  270.250000  275.250000  265.700012  274.399994  260.395386   \n",
       "2014-08-14  276.000000  276.000000  268.750000  272.399994  258.497528   \n",
       "2014-08-18  273.799988  277.899994  273.000000  273.600006  259.636230   \n",
       "\n",
       "             Volume  \n",
       "Date                 \n",
       "2014-08-11  4305779  \n",
       "2014-08-12  3262251  \n",
       "2014-08-13  3863196  \n",
       "2014-08-14  2321776  \n",
       "2014-08-18  2499975  "
      ]
     },
     "execution_count": 16,
     "metadata": {},
     "output_type": "execute_result"
    }
   ],
   "source": [
    "df = yf.download('ADANIPORTS.NS', start, end)\n",
    "df.head()"
   ]
  },
  {
   "cell_type": "code",
   "execution_count": 17,
   "id": "b6dbc807",
   "metadata": {},
   "outputs": [
    {
     "name": "stdout",
     "output_type": "stream",
     "text": [
      "<class 'pandas.core.frame.DataFrame'>\n",
      "DatetimeIndex: 2463 entries, 2014-08-11 to 2024-08-09\n",
      "Data columns (total 6 columns):\n",
      " #   Column     Non-Null Count  Dtype  \n",
      "---  ------     --------------  -----  \n",
      " 0   Open       2463 non-null   float64\n",
      " 1   High       2463 non-null   float64\n",
      " 2   Low        2463 non-null   float64\n",
      " 3   Close      2463 non-null   float64\n",
      " 4   Adj Close  2463 non-null   float64\n",
      " 5   Volume     2463 non-null   int64  \n",
      "dtypes: float64(5), int64(1)\n",
      "memory usage: 134.7 KB\n"
     ]
    }
   ],
   "source": [
    "df.info()"
   ]
  },
  {
   "cell_type": "markdown",
   "id": "87bd68eb",
   "metadata": {},
   "source": []
  }
 ],
 "metadata": {
  "kernelspec": {
   "display_name": "Python [conda env:py310] *",
   "language": "python",
   "name": "conda-env-py310-py"
  },
  "language_info": {
   "codemirror_mode": {
    "name": "ipython",
    "version": 3
   },
   "file_extension": ".py",
   "mimetype": "text/x-python",
   "name": "python",
   "nbconvert_exporter": "python",
   "pygments_lexer": "ipython3",
   "version": "3.10.2"
  }
 },
 "nbformat": 4,
 "nbformat_minor": 5
}
